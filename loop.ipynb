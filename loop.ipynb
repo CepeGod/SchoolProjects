values = int(input( "How much data do you want to introduce? "))
ages = []
total = 0
summation= 0

for i in range(0,values):
    x = int(input("Introduce your data: "))
    ages.append(x)
    total+=x
    

sample_mean =total/values

for age in ages:
    summation+= (age - sample_mean)**2
    
variance = summation/(values-1)
desv_std = variance**0.5

print(f"The sample mean is = {sample_mean}")
print(f"The summ is = {summation}")
print(f"The varian is = {variance}")
print(f" The tot is = {total}")

print(f" The standard variation is = {desv_std}")


