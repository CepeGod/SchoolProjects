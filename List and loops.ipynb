
i=0
x=[]
y=[]
n=[]
k=[]

p=len(x)#lista
while(x!=0):
    print(k)#LIST
    print(x)#DEVIATION
    print("Write 0 to stop")
    num=int(input("introduce your data "))
    x.append(num)
    sample_mean= (sum(x))/len(x)
    for j in x:
      j-=sample_mean
    y.append(j)
    for h in y:
        h*=h
        n.append(h)
    t=sum(n)
    c=t / len(x) 
    k=c**.5#deviation
    if num==0:
        break                                                         
#Created on Sat Sep 26 23:53:54 2020

#@author: Jesus

