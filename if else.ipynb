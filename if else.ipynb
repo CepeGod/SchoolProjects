{
 "cells": [
  {
   "cell_type": "code",
   "execution_count": 10,
   "metadata": {},
   "outputs": [
    {
     "name": "stdout",
     "output_type": "stream",
     "text": [
      "Welcome to UT\n",
      "We remind you the minimum passing grade for each course is 7\n",
      "Insert your Math grade: 7\n",
      "Insert your Statistics grade: 0\n",
      "Insert your Electronics grade: 7\n",
      "You passed two courses, almost done put more effort\n"
     ]
    }
   ],
   "source": [
    "print (\"Welcome to UT\")\n",
    "print (\"We remind you the minimum passing grade for each course is 7\")\n",
    "a=int(input(\"Insert your Math grade: \"))\n",
    "b=int(input(\"Insert your Statistics grade: \"))\n",
    "e=int(input(\"Insert your Electronics grade: \"))\n",
    "if a<=6 and b<=6 and e<=6:\n",
    "    print ( \"Sorry you didn't pass any course\" )\n",
    "elif a>=7 and b<=6 and e<=6:\n",
    "    print(\"You passed one course,don't be lazy you can do it better\")\n",
    "elif a<=6 and b>=7 and e<=6:\n",
    "    print(\"You passed one course,don't be lazy you can do it better\")\n",
    "elif a<=6 and b<=6 and e>=7:\n",
    "    print(\"You passed one course,don't be lazy you can do it better\")\n",
    "elif a==7 and b==7 and e==7:\n",
    "    print(\"You panzaste all your courses\") \n",
    "elif a<=6 and b>=7 and e>=7:\n",
    "    print(\"You passed two courses, almost done put more effort\")\n",
    "elif a>=7 and b>=7 and e<=6:\n",
    "    print(\"You passed two courses, almost done put more effort\")\n",
    "elif a>=7 and b<=6 and e>=7:\n",
    "    print(\"You passed two courses, almost done put more effort\")\n",
    "else:\n",
    "    print(\"Congratulations you passed all your courses\")\n"
   ]
  },
  {
   "cell_type": "code",
   "execution_count": null,
   "metadata": {},
   "outputs": [],
   "source": []
  },
  {
   "cell_type": "code",
   "execution_count": null,
   "metadata": {},
   "outputs": [],
   "source": []
  }
 ],
 "metadata": {
  "kernelspec": {
   "display_name": "Python 3",
   "language": "python",
   "name": "python3"
  },
  "language_info": {
   "codemirror_mode": {
    "name": "ipython",
    "version": 3
   },
   "file_extension": ".py",
   "mimetype": "text/x-python",
   "name": "python",
   "nbconvert_exporter": "python",
   "pygments_lexer": "ipython3",
   "version": "3.8.3"
  }
 },
 "nbformat": 4,
 "nbformat_minor": 4
}
